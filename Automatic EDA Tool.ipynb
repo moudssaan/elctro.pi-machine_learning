{
 "cells": [
  {
   "cell_type": "code",
   "execution_count": 1,
   "id": "cba63edc",
   "metadata": {},
   "outputs": [],
   "source": [
    "# importing needed libraries\n",
    "\n",
    "import numpy as np\n",
    "import pandas as pd\n",
    "import matplotlib.pyplot as plt\n",
    "import os.path\n",
    "import seaborn as sns"
   ]
  },
  {
   "cell_type": "code",
   "execution_count": 2,
   "id": "da9d3248",
   "metadata": {},
   "outputs": [],
   "source": [
    "def get_data():\n",
    "    path = input(\"Please type your dataset path: \")\n",
    "    \n",
    "    # checking if data file exists\n",
    "    while (not os.path.isfile(path)):\n",
    "        path = input(\"Please type a valid path: \")\n",
    "    \n",
    "    # checking datafile extension\n",
    "    extension = os.path.splitext(path)[1]\n",
    "    if (extension == \".csv\"):\n",
    "        return (pd.read_csv(path))\n",
    "    elif (extension == \".sql\"):\n",
    "        return (pd.read_sql(path))\n",
    "    elif (extension == \".xls\"):\n",
    "        return (pd.read_excel(path))\n",
    "    else:\n",
    "        print(\"ERROR:: Not a valid file extension, try again.\")\n",
    "        return 1"
   ]
  },
  {
   "cell_type": "code",
   "execution_count": 3,
   "id": "190eee93",
   "metadata": {},
   "outputs": [],
   "source": [
    "def explore_data(data):\n",
    "    print(\"==================== Data Head ====================\")\n",
    "    print(data.head())\n",
    "    print(\"==================== Data Description ====================\")\n",
    "    print(data.describe())\n",
    "    print(\"==================== Data info ====================\")\n",
    "    print(data.info())"
   ]
  },
  {
   "cell_type": "code",
   "execution_count": 4,
   "id": "21fb4a6d",
   "metadata": {},
   "outputs": [],
   "source": [
    "def preprocess_data(data, num_cols, cat_cols):\n",
    "    # checking and dropping duplicates\n",
    "    if data.duplicated().sum() > 0:\n",
    "        data.drop_duplicates(inplace=True)\n",
    "    \n",
    "    # check if data missing is a certain proportion, to decide, drop or fill\n",
    "    if (data.isnull().any(axis=1).sum() < (len(data)/100)):\n",
    "        data.dropna(inplace=True)\n",
    "    \n",
    "    else:        \n",
    "        # Handling missing values for numerical columns\n",
    "        data[num_cols] = data[num_cols].fillna(data[num_cols].mean())\n",
    "\n",
    "        # Handling missing values for object categorical columns\n",
    "        data[cat_cols] = data[cat_cols].fillna(data[cat_cols].mode().iloc[0])\n",
    "    \n",
    "    return (\"=================== PREPROCESSING DONE ===================\")\n",
    "            "
   ]
  },
  {
   "cell_type": "code",
   "execution_count": 5,
   "id": "283d4487",
   "metadata": {},
   "outputs": [],
   "source": [
    "def visualize_data(data, col):\n",
    "    if col in num_cols:\n",
    "        plt.figure()\n",
    "        sns.boxplot(x = data[col])\n",
    "        plt.show()\n",
    "        plt.figure()\n",
    "        sns.histplot(data[col])\n",
    "        plt.show()\n",
    "    \n",
    "    else:\n",
    "        category_counts = data[col].value_counts()\n",
    "        \n",
    "        # Create the bar plot\n",
    "        plt.bar(category_counts.index, category_counts.values)\n",
    "        plt.title('Bar Plot: {}'.format(col))\n",
    "        plt.xlabel(col)\n",
    "        plt.ylabel('Count')"
   ]
  },
  {
   "cell_type": "code",
   "execution_count": 6,
   "id": "acc1ec10",
   "metadata": {},
   "outputs": [
    {
     "name": "stdout",
     "output_type": "stream",
     "text": [
      "Please type your dataset path: C:\\Users\\SAM_DK1\\Documents\\data\\International_Report_Departures.csv\n",
      "=================== PREPROCESSING DONE ===================\n",
      "==================== Data Head ====================\n",
      "     data_dte  Year  Month  usg_apt_id usg_apt  usg_wac  fg_apt_id fg_apt  \\\n",
      "0  05/01/2006  2006      5       12016     GUM        5      13162    MAJ   \n",
      "1  05/01/2003  2003      5       10299     ANC        1      13856    OKO   \n",
      "2  03/01/2007  2007      3       10721     BOS       13      12651    KEF   \n",
      "3  12/01/2004  2004     12       11259     DAL       74      16271    YYZ   \n",
      "4  05/01/2009  2009      5       13303     MIA       33      11075    CMW   \n",
      "\n",
      "   fg_wac  airlineid carrier  carriergroup        type  Scheduled  Charter  \\\n",
      "0     844      20177     PFQ             1  Departures          0       10   \n",
      "1     736      20007      5Y             1  Departures          0       15   \n",
      "2     439      20402      GL             1  Departures          0        1   \n",
      "3     936      20201     AMQ             1  Departures          0        1   \n",
      "4     219      21323      5L             0  Departures          0       20   \n",
      "\n",
      "   Total  \n",
      "0     10  \n",
      "1     15  \n",
      "2      1  \n",
      "3      1  \n",
      "4     20  \n",
      "==================== Data Description ====================\n",
      "                Year          Month     usg_apt_id        usg_wac  \\\n",
      "count  927753.000000  927753.000000  927753.000000  927753.000000   \n",
      "mean     2006.039484       6.414815   12807.082771      42.602816   \n",
      "std         8.559148       3.471259    2718.960303      27.554075   \n",
      "min      1990.000000       1.000000   10010.000000       1.000000   \n",
      "25%      1999.000000       3.000000   11618.000000      22.000000   \n",
      "50%      2007.000000       6.000000   12892.000000      33.000000   \n",
      "75%      2014.000000       9.000000   13487.000000      72.000000   \n",
      "max      2020.000000      12.000000   99999.000000      93.000000   \n",
      "\n",
      "           fg_apt_id         fg_wac      airlineid   carriergroup  \\\n",
      "count  927753.000000  927753.000000  927753.000000  927753.000000   \n",
      "mean    13485.187354     467.448589   20056.041096       0.598042   \n",
      "std      1933.133521     288.183269     479.420013       0.490294   \n",
      "min     10119.000000     106.000000   19386.000000       0.000000   \n",
      "25%     11868.000000     205.000000   19704.000000       0.000000   \n",
      "50%     13408.000000     427.000000   19977.000000       1.000000   \n",
      "75%     15084.000000     736.000000   20310.000000       1.000000   \n",
      "max     16881.000000     975.000000   22067.000000       1.000000   \n",
      "\n",
      "           Scheduled        Charter          Total  \n",
      "count  927753.000000  927753.000000  927753.000000  \n",
      "mean       39.897831       2.003922      41.901753  \n",
      "std        60.711224       8.279357      60.105606  \n",
      "min         0.000000       0.000000       1.000000  \n",
      "25%         0.000000       0.000000       3.000000  \n",
      "50%        17.000000       0.000000      20.000000  \n",
      "75%        60.000000       1.000000      60.000000  \n",
      "max      2019.000000    1092.000000    2019.000000  \n",
      "==================== Data info ====================\n",
      "<class 'pandas.core.frame.DataFrame'>\n",
      "Int64Index: 927753 entries, 0 to 930807\n",
      "Data columns (total 16 columns):\n",
      " #   Column        Non-Null Count   Dtype \n",
      "---  ------        --------------   ----- \n",
      " 0   data_dte      927753 non-null  object\n",
      " 1   Year          927753 non-null  int64 \n",
      " 2   Month         927753 non-null  int64 \n",
      " 3   usg_apt_id    927753 non-null  int64 \n",
      " 4   usg_apt       927753 non-null  object\n",
      " 5   usg_wac       927753 non-null  int64 \n",
      " 6   fg_apt_id     927753 non-null  int64 \n",
      " 7   fg_apt        927753 non-null  object\n",
      " 8   fg_wac        927753 non-null  int64 \n",
      " 9   airlineid     927753 non-null  int64 \n",
      " 10  carrier       927753 non-null  object\n",
      " 11  carriergroup  927753 non-null  int64 \n",
      " 12  type          927753 non-null  object\n",
      " 13  Scheduled     927753 non-null  int64 \n",
      " 14  Charter       927753 non-null  int64 \n",
      " 15  Total         927753 non-null  int64 \n",
      "dtypes: int64(11), object(5)\n",
      "memory usage: 120.3+ MB\n",
      "None\n",
      "Please Enter a column to work with: airlineid\n"
     ]
    },
    {
     "data": {
      "image/png": "[encoded data removed]",
      "text/plain": [
       "<Figure size 640x480 with 1 Axes>"
      ]
     },
     "metadata": {},
     "output_type": "display_data"
    },
    {
     "data": {
      "image/png": "[encoded data removed]",
      "text/plain": [
       "<Figure size 640x480 with 1 Axes>"
      ]
     },
     "metadata": {},
     "output_type": "display_data"
    }
   ],
   "source": [
    "data = get_data()\n",
    "\n",
    "# getting numerical and categorical columns separated\n",
    "num_cols = data.select_dtypes(include=['float64', 'int64']).columns\n",
    "cat_cols = data.select_dtypes(include=['object']).columns\n",
    "\n",
    "print(preprocess_data(data, num_cols, cat_cols))\n",
    "explore_data(data)\n",
    "\n",
    "col = input(\"Please Enter a column to work with: \")\n",
    "while (col not in data.columns):\n",
    "    col = input(\"Please Enter an existing column: \")\n",
    "\n",
    "visualize_data(data, col)\n",
    "\n",
    "\n",
    "    \n"
   ]
  }
 ],
 "metadata": {
  "kernelspec": {
   "display_name": "Python 3 (ipykernel)",
   "language": "python",
   "name": "python3"
  },
  "language_info": {
   "codemirror_mode": {
    "name": "ipython",
    "version": 3
   },
   "file_extension": ".py",
   "mimetype": "text/x-python",
   "name": "python",
   "nbconvert_exporter": "python",
   "pygments_lexer": "ipython3",
   "version": "3.11.3"
  }
 },
 "nbformat": 4,
 "nbformat_minor": 5
}

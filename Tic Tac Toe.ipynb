{
 "cells": [
  {
   "cell_type": "markdown",
   "id": "febca07e",
   "metadata": {},
   "source": [
    "# Tic Tac Toe Game"
   ]
  },
  {
   "cell_type": "code",
   "execution_count": 1,
   "id": "28ab8afc",
   "metadata": {},
   "outputs": [],
   "source": [
    "# This function shows the board updated with every move\n",
    "\n",
    "def show_board(board):\n",
    "    for row in board:\n",
    "        for col in row:\n",
    "            print(col, end =\"\")\n",
    "            print(\"    \", end =\"\")\n",
    "        print(\"\\n-----------\")"
   ]
  },
  {
   "cell_type": "code",
   "execution_count": 2,
   "id": "95425276",
   "metadata": {},
   "outputs": [],
   "source": [
    "# This function moves the player on the board, checks the validity of the player move and updates the board with moves\n",
    "\n",
    "def play(board, player):\n",
    "    # looping until user enters a valid value to move  \n",
    "    while (True):\n",
    "        try:\n",
    "            row = int(input(\"Enter which row (0, 1, 2)\"))\n",
    "            col = int(input(\"Enter which column (0, 1, 2)\"))        \n",
    "        except ValueError:\n",
    "            # this is done in case user didn't enter an int\n",
    "            print(\"Please Enter an int only between 0 and 2\")\n",
    "        else:\n",
    "            # checking the value entered -the index- to move the player on the 2d array\n",
    "            if (row not in range(3) or col not in range(3)):\n",
    "                print(\"Please Enter an int only between 0 and 2\")\n",
    "                print(\"----------------------------------------\")\n",
    "                continue\n",
    "            # checking if a spot on 2d array is taken or not\n",
    "            elif (board[row][col] != ''):\n",
    "                print(\"This spot is occupied.\")\n",
    "                print(\"----------------------\")\n",
    "            else:\n",
    "                break\n",
    "                \n",
    "    # updating the board if all tests on value is done\n",
    "    board[row][col] = player"
   ]
  },
  {
   "cell_type": "code",
   "execution_count": 3,
   "id": "5f64de75",
   "metadata": {},
   "outputs": [],
   "source": [
    "# this function checks if a player had won, returns true if yes, false if no\n",
    "\n",
    "def check_win(board, player):\n",
    "    counter = 0\n",
    "    \n",
    "    #checking rows     \n",
    "    for row in range(3):\n",
    "        for col in range(3):\n",
    "            if board[row][col] == player:\n",
    "                counter += 1\n",
    "        if counter == 3:\n",
    "            return True\n",
    "        counter = 0\n",
    "        \n",
    "        #checking columns\n",
    "        if (board[0][row] == player and board[1][row] == player and board[2][row] == player):\n",
    "            return True\n",
    "    \n",
    "    # checking diagonals\n",
    "    if (board[0][0] == player and board[1][1] == player and board[2][2] == player):\n",
    "        return True\n",
    "        \n",
    "    elif (board[0][2] == player and board[1][1] == player and board[2][0] == player):\n",
    "        return True\n",
    "    \n",
    "    # if player didn't won, return false\n",
    "    return False"
   ]
  },
  {
   "cell_type": "code",
   "execution_count": 4,
   "id": "77dedb8a",
   "metadata": {},
   "outputs": [],
   "source": [
    "def check_tie(board):\n",
    "    for row in board:\n",
    "        if '' in row:\n",
    "            return False\n",
    "        \n",
    "    print(\"TIE\")\n",
    "    return True"
   ]
  },
  {
   "cell_type": "code",
   "execution_count": 5,
   "id": "7478b123",
   "metadata": {},
   "outputs": [
    {
     "name": "stdout",
     "output_type": "stream",
     "text": [
      "            \n",
      "-----------\n",
      "            \n",
      "-----------\n",
      "            \n",
      "-----------\n"
     ]
    }
   ],
   "source": [
    "# defining the 2d array -field of playing- of and showing it\n",
    "grid = [['', '', ''],\n",
    "        ['', '', ''],\n",
    "        ['', '', '']]\n",
    "\n",
    "show_board(grid)"
   ]
  },
  {
   "cell_type": "code",
   "execution_count": 6,
   "id": "18e7d107",
   "metadata": {},
   "outputs": [
    {
     "name": "stdout",
     "output_type": "stream",
     "text": [
      "Player one icon: X\n",
      "Player two icon: O\n"
     ]
    }
   ],
   "source": [
    "# taking the players symbols they want to play with\n",
    "p1 = input(\"Player one icon: \")\n",
    "p2 = input(\"Player two icon: \")"
   ]
  },
  {
   "cell_type": "code",
   "execution_count": 7,
   "id": "81babea4",
   "metadata": {},
   "outputs": [
    {
     "name": "stdout",
     "output_type": "stream",
     "text": [
      "Player X turn.\n",
      "Enter which row (0, 1, 2)0\n",
      "Enter which column (0, 1, 2)0\n",
      "X            \n",
      "-----------\n",
      "            \n",
      "-----------\n",
      "            \n",
      "-----------\n",
      "Player O turn.\n",
      "Enter which row (0, 1, 2)0\n",
      "Enter which column (0, 1, 2)1\n",
      "X    O        \n",
      "-----------\n",
      "            \n",
      "-----------\n",
      "            \n",
      "-----------\n",
      "Player X turn.\n",
      "Enter which row (0, 1, 2)0\n",
      "Enter which column (0, 1, 2)2\n",
      "X    O    X    \n",
      "-----------\n",
      "            \n",
      "-----------\n",
      "            \n",
      "-----------\n",
      "Player O turn.\n",
      "Enter which row (0, 1, 2)2\n",
      "Enter which column (0, 1, 2)1\n",
      "X    O    X    \n",
      "-----------\n",
      "            \n",
      "-----------\n",
      "    O        \n",
      "-----------\n",
      "Player X turn.\n",
      "Enter which row (0, 1, 2)2\n",
      "Enter which column (0, 1, 2)0\n",
      "X    O    X    \n",
      "-----------\n",
      "            \n",
      "-----------\n",
      "X    O        \n",
      "-----------\n",
      "Player O turn.\n",
      "Enter which row (0, 1, 2)2\n",
      "Enter which column (0, 1, 2)2\n",
      "X    O    X    \n",
      "-----------\n",
      "            \n",
      "-----------\n",
      "X    O    O    \n",
      "-----------\n",
      "Player X turn.\n",
      "Enter which row (0, 1, 2)1\n",
      "Enter which column (0, 1, 2)1\n",
      "X    O    X    \n",
      "-----------\n",
      "    X        \n",
      "-----------\n",
      "X    O    O    \n",
      "-----------\n",
      "Player X WINS\n"
     ]
    }
   ],
   "source": [
    "# looping 9 times, representing max number of plays possible, checking for wins while alternating turns between the two players\n",
    "player_now = p1;\n",
    "\n",
    "for turn in range(9):\n",
    "    print(f\"Player {player_now} turn.\")\n",
    "    play(grid, player_now)\n",
    "    show_board(grid)\n",
    "    \n",
    "    if check_win(grid, player_now):\n",
    "        print(f\"Player {player_now} WINS\")\n",
    "        break\n",
    "    \n",
    "    check_tie(grid)\n",
    "    player_now = p1 if player_now == p2 else p2"
   ]
  },
  {
   "cell_type": "code",
   "execution_count": null,
   "id": "30390a69",
   "metadata": {},
   "outputs": [],
   "source": []
  }
 ],
 "metadata": {
  "kernelspec": {
   "display_name": "Python 3 (ipykernel)",
   "language": "python",
   "name": "python3"
  },
  "language_info": {
   "codemirror_mode": {
    "name": "ipython",
    "version": 3
   },
   "file_extension": ".py",
   "mimetype": "text/x-python",
   "name": "python",
   "nbconvert_exporter": "python",
   "pygments_lexer": "ipython3",
   "version": "3.11.3"
  }
 },
 "nbformat": 4,
 "nbformat_minor": 5
}
